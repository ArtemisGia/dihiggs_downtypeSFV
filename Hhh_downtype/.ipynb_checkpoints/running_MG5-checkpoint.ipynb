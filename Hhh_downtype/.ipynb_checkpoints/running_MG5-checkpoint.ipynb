{
 "cells": [
  {
   "cell_type": "code",
   "execution_count": 1,
   "id": "f7effef9-fd85-41a7-92cc-b022819edc04",
   "metadata": {},
   "outputs": [],
   "source": [
    "import pandas as pd\n",
    "import numpy as np"
   ]
  },
  {
   "cell_type": "code",
   "execution_count": 17,
   "id": "54b735c0-f6d0-4c80-a85e-e01aded02b29",
   "metadata": {},
   "outputs": [
    {
     "data": {
      "text/plain": [
       "(array([ 251. ,  260. ,  270. ,  280. ,  290. ,  300. ,  312.5,  325. ,\n",
       "         337.5,  350. ,  375. ,  400. ,  425. ,  450. ,  475. ,  500. ,\n",
       "         550. ,  600. ,  650. ,  700. ,  750. ,  800. ,  850. ,  900. ,\n",
       "        1000. , 1100. , 1200. , 1300. , 1400. , 1500. , 1600. , 1800. ,\n",
       "        2000. , 2250. , 2500. , 2750. , 3000. , 3500. , 4000. , 4500. ,\n",
       "        5000. ]),\n",
       " array([0.00794328, 0.01244515, 0.01949845, 0.03054921, 0.04786301,\n",
       "        0.05011872, 0.06726324, 0.09027252, 0.12115277, 0.16259647,\n",
       "        0.21821715, 0.29286446, 0.39304696, 0.52749971, 0.70794578]))"
      ]
     },
     "execution_count": 17,
     "metadata": {},
     "output_type": "execute_result"
    }
   ],
   "source": [
    "data1 = pd.read_csv('atlas_2112p11876_BR_H_to_hh_kc.csv')\n",
    "mass1 = np.unique(data1['mH'])\n",
    "kc1 = np.unique(data1['kc'])\n",
    "data2 = pd.read_csv('atlas_2202p07288_BR_H_to_hh_kc.csv')\n",
    "mass2 = np.unique(data2['mH'])\n",
    "kc2 = np.unique(data2['kc'])\n",
    "data3 = pd.read_csv('atlas_2209p10910_BR_H_to_hh_kc.csv')\n",
    "mass3 = np.unique(data3['mH'])\n",
    "kc3 = np.unique(data3['kc'])\n",
    "mass = np.unique([*mass1,*mass2,*mass3])\n",
    "kc = np.unique([*kc1,*kc2,*kc3])\n",
    "mass, kc\n"
   ]
  },
  {
   "cell_type": "code",
   "execution_count": 18,
   "id": "b6ba72a2-a1b6-487b-81ed-b47359e99c1d",
   "metadata": {},
   "outputs": [],
   "source": [
    "# make the .txt file to run the MG5 simulation in the automated job\n",
    "\n",
    "f = open('H_to_hh_MG5_run_script.txt','a')\n",
    "\n",
    "f.write('launch /gpfs/scratch/argiannakopo/H_to_hh_kc_cosbma0p1_xi0_atlas/ \\n')\n",
    "\n",
    "for m in mass:\n",
    "    for k in kc: #np.logspace(-1.29,-0.096,8): #[0.049, 0.0601, 0.0736, 0.0903, 0.1107, 0.1358, 0.1665, 0.2042]:\n",
    "        f.write('set mh2 %d \\n' % m )\n",
    "        f.write('set mh3 %d \\n' % m )\n",
    "        f.write('set mhc %d \\n' % m )\n",
    "        f.write('set kc %f \\n' % k )\n",
    "        f.write('0 \\n')\n",
    "        f.write('launch \\n')\n",
    "        \n",
    "f.close()"
   ]
  },
  {
   "cell_type": "code",
   "execution_count": 2,
   "id": "c29e1d54-824c-48b8-a311-099c727c3b10",
   "metadata": {},
   "outputs": [
    {
     "data": {
      "text/html": [
       "<div>\n",
       "<style scoped>\n",
       "    .dataframe tbody tr th:only-of-type {\n",
       "        vertical-align: middle;\n",
       "    }\n",
       "\n",
       "    .dataframe tbody tr th {\n",
       "        vertical-align: top;\n",
       "    }\n",
       "\n",
       "    .dataframe thead th {\n",
       "        text-align: right;\n",
       "    }\n",
       "</style>\n",
       "<table border=\"1\" class=\"dataframe\">\n",
       "  <thead>\n",
       "    <tr style=\"text-align: right;\">\n",
       "      <th></th>\n",
       "      <th>m</th>\n",
       "      <th>xsec-fb</th>\n",
       "    </tr>\n",
       "  </thead>\n",
       "  <tbody>\n",
       "    <tr>\n",
       "      <th>0</th>\n",
       "      <td>251</td>\n",
       "      <td>3740.014623</td>\n",
       "    </tr>\n",
       "    <tr>\n",
       "      <th>1</th>\n",
       "      <td>260</td>\n",
       "      <td>8413.666185</td>\n",
       "    </tr>\n",
       "    <tr>\n",
       "      <th>2</th>\n",
       "      <td>280</td>\n",
       "      <td>7741.787588</td>\n",
       "    </tr>\n",
       "    <tr>\n",
       "      <th>3</th>\n",
       "      <td>300</td>\n",
       "      <td>3479.437441</td>\n",
       "    </tr>\n",
       "    <tr>\n",
       "      <th>4</th>\n",
       "      <td>350</td>\n",
       "      <td>389.695991</td>\n",
       "    </tr>\n",
       "  </tbody>\n",
       "</table>\n",
       "</div>"
      ],
      "text/plain": [
       "     m      xsec-fb\n",
       "0  251  3740.014623\n",
       "1  260  8413.666185\n",
       "2  280  7741.787588\n",
       "3  300  3479.437441\n",
       "4  350   389.695991"
      ]
     },
     "execution_count": 2,
     "metadata": {},
     "output_type": "execute_result"
    }
   ],
   "source": [
    "# read the exp limits so that I can run the simulation at the same mass points\n",
    "\n",
    "experiment_data = pd.read_csv('/gpfs/home/argiannakopo/SFV/Exp_data/X-hh-ATLAS-2202p07288.csv')\n",
    "experiment_data.head()"
   ]
  },
  {
   "cell_type": "code",
   "execution_count": 4,
   "id": "12551d21-7b94-4b9a-9a2c-17acfb52ff68",
   "metadata": {},
   "outputs": [
    {
     "name": "stdout",
     "output_type": "stream",
     "text": [
      "[251, 260, 280, 300, 350, 400, 500, 600, 700, 800, 900, 1000, 1100, 1200, 1300, 1400, 1500, 1600, 1800, 2000, 2250, 2500, 2750, 3000, 3500, 4000, 4500, 5000]\n"
     ]
    }
   ],
   "source": [
    "list = experiment_data['m'].tolist()\n",
    "print(list)"
   ]
  },
  {
   "cell_type": "code",
   "execution_count": 6,
   "id": "c8413381-10a3-4bb3-94f8-34823db2c23a",
   "metadata": {},
   "outputs": [
    {
     "name": "stdout",
     "output_type": "stream",
     "text": [
      "[251, 260, 280, 300, 325, 350, 375, 400, 450, 500, 550, 600, 700, 800, 900, 1000, 1100, 1200, 1400, 1600]\n"
     ]
    }
   ],
   "source": [
    "data = pd.read_csv('/gpfs/home/argiannakopo/SFV/Exp_data/X-hh-ATLAS-2209p10910.csv')\n",
    "print(data['m'].tolist())"
   ]
  },
  {
   "cell_type": "code",
   "execution_count": 9,
   "id": "d23c6575-7acb-4e1e-92da-71a6baa2a82a",
   "metadata": {},
   "outputs": [
    {
     "data": {
      "text/plain": [
       "'/gpfs/home/argiannakopo/SFV/DownType_csv_PW/Hhh_downtype'"
      ]
     },
     "execution_count": 9,
     "metadata": {},
     "output_type": "execute_result"
    }
   ],
   "source": [
    "pwd"
   ]
  },
  {
   "cell_type": "code",
   "execution_count": null,
   "id": "74a0ec64-5cc5-4394-b150-35e967279f58",
   "metadata": {},
   "outputs": [],
   "source": [
    "# make the .txt file to run the MG5 simulation in the automated job\n",
    "\n",
    "f = open('H_to_hh_MG5_run_script.txt','a')\n",
    "\n",
    "f.write('launch /gpfs/scratch/argiannakopo/H_to_hh_kc_cosbma0p1_xi0_atlas/ \\n')\n",
    "\n",
    "for m in experiment_data[experiment_data['mH']>1200]['mH']:\n",
    "    for k in np.logspace(-1.3,-0.15,10): #np.logspace(-1.29,-0.096,8): #[0.049, 0.0601, 0.0736, 0.0903, 0.1107, 0.1358, 0.1665, 0.2042]:\n",
    "        f.write('set mh2 %d \\n' % m )\n",
    "        f.write('set mh3 %d \\n' % m )\n",
    "        f.write('set mhc %d \\n' % m )\n",
    "        f.write('set kc %f \\n' % k )\n",
    "        f.write('0 \\n')\n",
    "        f.write('launch \\n')\n",
    "        \n",
    "f.close()\n",
    "    \n",
    "    \n",
    "    "
   ]
  },
  {
   "cell_type": "code",
   "execution_count": 11,
   "id": "de130b86-df5e-4f3c-ae60-f931780fad72",
   "metadata": {},
   "outputs": [],
   "source": [
    "# make the .txt file to run the MG5 simulation in the automated job\n",
    "\n",
    "## add some points for the bbττ channel at intermediate masses\n",
    "\n",
    "f = open('H_to_hh_MG5_run_script.txt','a')\n",
    "\n",
    "f.write('launch /gpfs/scratch/argiannakopo/H_to_hh_kc_cosbma0p1_xi0_atlas/ \\n')\n",
    "\n",
    "for m in data[(data['m'] >350) & ( data['m'] < 700)]['m']:\n",
    "    for k in np.logspace(-2.1,-1.32,5): #np.logspace(-1.29,-0.096,8): #[0.049, 0.0601, 0.0736, 0.0903, 0.1107, 0.1358, 0.1665, 0.2042]:\n",
    "        f.write('set mh2 %d \\n' % m )\n",
    "        f.write('set mh3 %d \\n' % m )\n",
    "        f.write('set mhc %d \\n' % m )\n",
    "        f.write('set kc %f \\n' % k )\n",
    "        f.write('0 \\n')\n",
    "        f.write('launch \\n')\n",
    "        \n",
    "f.close()"
   ]
  },
  {
   "cell_type": "code",
   "execution_count": 2,
   "id": "db170476-11d6-4bcd-8872-a10f547110cf",
   "metadata": {},
   "outputs": [
    {
     "data": {
      "text/html": [
       "<div>\n",
       "<style scoped>\n",
       "    .dataframe tbody tr th:only-of-type {\n",
       "        vertical-align: middle;\n",
       "    }\n",
       "\n",
       "    .dataframe tbody tr th {\n",
       "        vertical-align: top;\n",
       "    }\n",
       "\n",
       "    .dataframe thead th {\n",
       "        text-align: right;\n",
       "    }\n",
       "</style>\n",
       "<table border=\"1\" class=\"dataframe\">\n",
       "  <thead>\n",
       "    <tr style=\"text-align: right;\">\n",
       "      <th></th>\n",
       "      <th>mH</th>\n",
       "      <th>xs</th>\n",
       "    </tr>\n",
       "  </thead>\n",
       "  <tbody>\n",
       "    <tr>\n",
       "      <th>0</th>\n",
       "      <td>130</td>\n",
       "      <td>0.236053</td>\n",
       "    </tr>\n",
       "    <tr>\n",
       "      <th>1</th>\n",
       "      <td>140</td>\n",
       "      <td>0.220097</td>\n",
       "    </tr>\n",
       "    <tr>\n",
       "      <th>2</th>\n",
       "      <td>150</td>\n",
       "      <td>0.093438</td>\n",
       "    </tr>\n",
       "    <tr>\n",
       "      <th>3</th>\n",
       "      <td>160</td>\n",
       "      <td>0.123862</td>\n",
       "    </tr>\n",
       "    <tr>\n",
       "      <th>4</th>\n",
       "      <td>170</td>\n",
       "      <td>0.188097</td>\n",
       "    </tr>\n",
       "  </tbody>\n",
       "</table>\n",
       "</div>"
      ],
      "text/plain": [
       "    mH        xs\n",
       "0  130  0.236053\n",
       "1  140  0.220097\n",
       "2  150  0.093438\n",
       "3  160  0.123862\n",
       "4  170  0.188097"
      ]
     },
     "execution_count": 2,
     "metadata": {},
     "output_type": "execute_result"
    }
   ],
   "source": [
    "# Load the experimental bounds to compare with my results \n",
    "\n",
    "CMS = pd.read_csv('/gpfs/home/argiannakopo/SFV/Exp_data/X-ZZ-CMS-1804p01939.csv')\n",
    "CMS.head()"
   ]
  },
  {
   "cell_type": "code",
   "execution_count": 4,
   "id": "7f38f13b-dd6d-4a0a-ad33-481711723590",
   "metadata": {},
   "outputs": [
    {
     "data": {
      "text/plain": [
       "array([0.1       , 0.14206922, 0.20183664, 0.28674774, 0.40738028])"
      ]
     },
     "execution_count": 4,
     "metadata": {},
     "output_type": "execute_result"
    }
   ],
   "source": [
    "np.logspace(-1,-0.39,5)"
   ]
  },
  {
   "cell_type": "code",
   "execution_count": 14,
   "id": "3a6cd5cc-472a-491d-b72d-02beb4659d6b",
   "metadata": {},
   "outputs": [],
   "source": [
    "# make the .txt file to run the MG5 simulation in the automated job\n",
    "\n",
    "f = open('H_to_ZZ_MG5_run_script.txt','a')\n",
    "\n",
    "f.write('launch /gpfs/scratch/argiannakopo/H_to_ZZ_ks_cosbma0p1_xi0_atlas/ \\n')\n",
    "\n",
    "for m in CMS[CMS['mH'] <= 190]['mH']:\n",
    "    for k in np.logspace(-1,-0.39,5):  ##[0.049, 0.0601, 0.0736, 0.0903, 0.1107, 0.1358, 0.1665, 0.2042]:\n",
    "        f.write('set mh2 %d \\n' % m )\n",
    "        f.write('set mh3 %d \\n' % m )\n",
    "        f.write('set mhc %d \\n' % m )\n",
    "        f.write('set ks %f \\n' % k )\n",
    "        f.write('0 \\n')\n",
    "        f.write('launch \\n')\n",
    "        \n",
    "f.close()"
   ]
  },
  {
   "cell_type": "code",
   "execution_count": null,
   "id": "772eb24a-6e27-4d34-a75e-3c0024245758",
   "metadata": {},
   "outputs": [],
   "source": []
  }
 ],
 "metadata": {
  "kernelspec": {
   "display_name": "Python 3 (ipykernel)",
   "language": "python",
   "name": "python3"
  },
  "language_info": {
   "codemirror_mode": {
    "name": "ipython",
    "version": 3
   },
   "file_extension": ".py",
   "mimetype": "text/x-python",
   "name": "python",
   "nbconvert_exporter": "python",
   "pygments_lexer": "ipython3",
   "version": "3.10.8"
  }
 },
 "nbformat": 4,
 "nbformat_minor": 5
}
